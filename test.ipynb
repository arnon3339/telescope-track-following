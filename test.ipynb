{
 "cells": [
  {
   "cell_type": "code",
   "execution_count": 1,
   "metadata": {},
   "outputs": [],
   "source": [
    "import numpy as np\n",
    "import uproot\n",
    "from mpl_toolkits.mplot3d import Axes3D\n",
    "import matplotlib.pyplot as plt\n",
    "import pandas as pd\n",
    "import os\n",
    "from modules import roothit"
   ]
  },
  {
   "cell_type": "code",
   "execution_count": 2,
   "metadata": {},
   "outputs": [],
   "source": [
    "file_name = \"10000telescope_70MeV_noabs_nodegrader.root\"\n",
    "file_path = f\"./data/simulation/ens/root/\"\n",
    "root_data = uproot.open(os.path.join(file_path, file_name))"
   ]
  },
  {
   "cell_type": "code",
   "execution_count": 3,
   "metadata": {},
   "outputs": [],
   "source": [
    "proton_hits = roothit.get_hit_simdata(os.path.join(file_path, file_name), 10000, 'proton')"
   ]
  },
  {
   "cell_type": "code",
   "execution_count": 4,
   "metadata": {},
   "outputs": [
    {
     "name": "stdout",
     "output_type": "stream",
     "text": [
      "0.03967258512092684\n"
     ]
    }
   ],
   "source": [
    "print(np.mean(proton_hits[\"edep\"].values))"
   ]
  },
  {
   "cell_type": "code",
   "execution_count": null,
   "metadata": {},
   "outputs": [],
   "source": [
    "file_name = \"10000telescope_100MeV_noabs_nodegrader.root\"\n",
    "proton_hits100 = roothit.get_hit_simdata(os.path.join(file_path, file_name), 10000, 'proton')\n",
    "print(np.mean(proton_hits100['edep'].values))"
   ]
  },
  {
   "cell_type": "code",
   "execution_count": null,
   "metadata": {},
   "outputs": [],
   "source": [
    "file_name = \"10000telescope_120MeV_noabs_nodegrader.root\"\n",
    "proton_hits120 = roothit.get_hit_simdata(os.path.join(file_path, file_name), 10000, 'proton')\n",
    "print(np.mean(proton_hits120['edep'].values))"
   ]
  },
  {
   "cell_type": "code",
   "execution_count": null,
   "metadata": {},
   "outputs": [],
   "source": [
    "file_name = \"10000telescope_150MeV_noabs_nodegrader.root\"\n",
    "proton_hits150 = roothit.get_hit_simdata(os.path.join(file_path, file_name), 10000, 'proton')\n",
    "print(np.mean(proton_hits150['edep'].values))"
   ]
  },
  {
   "cell_type": "code",
   "execution_count": null,
   "metadata": {},
   "outputs": [],
   "source": [
    "file_name = \"10000telescope_180MeV_noabs_nodegrader.root\"\n",
    "proton_hits200 = roothit.get_hit_simdata(os.path.join(file_path, file_name), 10000, 'proton')\n",
    "print(np.mean(proton_hits200['edep'].values))"
   ]
  },
  {
   "cell_type": "code",
   "execution_count": 6,
   "metadata": {},
   "outputs": [
    {
     "name": "stdout",
     "output_type": "stream",
     "text": [
      "0.01782377865324306\n"
     ]
    }
   ],
   "source": [
    "file_name = \"10000telescope_200MeV_noabs_nodegrader.root\"\n",
    "proton_hits200 = roothit.get_hit_simdata(os.path.join(file_path, file_name), 10000, 'proton')\n",
    "print(np.mean(proton_hits200['edep'].values))"
   ]
  },
  {
   "cell_type": "code",
   "execution_count": null,
   "metadata": {},
   "outputs": [],
   "source": [
    "root_values = root_data['EUDAQMonitor/Hits vs Plane;1'].values()\n",
    "print(root_values)"
   ]
  },
  {
   "cell_type": "code",
   "execution_count": null,
   "metadata": {},
   "outputs": [],
   "source": [
    "np_event_data = np.array(root_data['Hits;1']['eventID'].array().tolist())\n",
    "np_trackid_data = np.array(root_data['Hits;1']['trackID'].array().tolist()) \n",
    "np_posX_data = np.array(root_data['Hits;1']['posX'].array().tolist())\n",
    "np_posY_data = np.array(root_data['Hits;1']['posY'].array().tolist())\n",
    "np_posZ_data = np.array(root_data['Hits;1']['posZ'].array().tolist())\n",
    "np_edep_data = np.array(root_data['Hits;1']['edep'].array().tolist())\n",
    "np_PDG_data = np.array(root_data['Hits;1']['PDGEncoding'].array().tolist())\n",
    "np_layerID_data = np.array(root_data['Hits;1']['level1ID'].array().tolist())\n",
    "pd_data = pd.DataFrame({\n",
    "    \"eventID\": np_event_data,\n",
    "    \"trackID\": np_trackid_data,\n",
    "    \"posX\": np_posX_data,\n",
    "    \"posY\": np_posY_data,\n",
    "    \"posZ\": np_posZ_data,\n",
    "    \"edep\": np_edep_data,\n",
    "    \"PDGEncoding\": np_PDG_data,\n",
    "    \"layerID\": np_layerID_data\n",
    "})\n",
    "\n",
    "pd_data.to_csv(\"./logs/data.csv\")\n",
    "# np_data = np_data.astype('int64')\n"
   ]
  },
  {
   "cell_type": "code",
   "execution_count": null,
   "metadata": {},
   "outputs": [],
   "source": [
    "print(pd_data[\"posX\"])\n",
    "pd_data_layer0 = pd_data[pd_data.layerID == 0]\n",
    "pd_data_layer0_sel = pd_data_layer0[pd_data_layer0.posX**2 + pd_data_layer0.posY**2 <= 0.55**2]"
   ]
  },
  {
   "cell_type": "code",
   "execution_count": null,
   "metadata": {},
   "outputs": [],
   "source": [
    "plt.scatter(pd_data_layer0_sel[\"posX\"], pd_data_layer0_sel[\"posY\"])\n",
    "plt.xlim([-15, 15])\n",
    "plt.ylim([-7,7])"
   ]
  },
  {
   "cell_type": "code",
   "execution_count": null,
   "metadata": {},
   "outputs": [],
   "source": [
    "print(np_posX_data[60:65])\n",
    "print(np_posY_data[60:65])\n",
    "print(np_posZ_data[60:65])"
   ]
  },
  {
   "cell_type": "code",
   "execution_count": null,
   "metadata": {},
   "outputs": [],
   "source": [
    "last_layer"
   ]
  },
  {
   "cell_type": "code",
   "execution_count": null,
   "metadata": {},
   "outputs": [],
   "source": [
    "len(last_layer[0])"
   ]
  },
  {
   "cell_type": "code",
   "execution_count": null,
   "metadata": {},
   "outputs": [],
   "source": [
    "fig = plt.figure(figsize=(20, 15))\n",
    "ax = Axes3D(fig)\n",
    "# print(f\"{track['eventID'].values}, {track['posZ'].values}\")\n",
    "ax.plot3D(np_posX_data[60:65], np_posZ_data[60:65], np_posY_data[60:65],\n",
    "        linewidth=2, c='black')\n",
    "ax.view_init(elev=20, azim=-10)\n",
    "# view_init_list = [[0, 0], [0, -30]]\n",
    "ax.set_xlabel(\"X mm\")\n",
    "ax.set_ylabel(\"Z mm\")\n",
    "ax.set_zlabel(\"Y mm\")\n",
    "ax.set_xlim([0, 30])\n",
    "ax.set_ylim([-25, 130])\n",
    "ax.set_zlim([0, 13.8])"
   ]
  },
  {
   "cell_type": "code",
   "execution_count": null,
   "metadata": {},
   "outputs": [],
   "source": []
  }
 ],
 "metadata": {
  "kernelspec": {
   "display_name": "Python 3 (ipykernel)",
   "language": "python",
   "name": "python3"
  },
  "language_info": {
   "codemirror_mode": {
    "name": "ipython",
    "version": 3
   },
   "file_extension": ".py",
   "mimetype": "text/x-python",
   "name": "python",
   "nbconvert_exporter": "python",
   "pygments_lexer": "ipython3",
   "version": "3.10.6"
  },
  "orig_nbformat": 4,
  "vscode": {
   "interpreter": {
    "hash": "bf63ce51a214f63c11d67cb57acd302dc54d58452dc906e0a6787406a3c2276b"
   }
  }
 },
 "nbformat": 4,
 "nbformat_minor": 2
}
